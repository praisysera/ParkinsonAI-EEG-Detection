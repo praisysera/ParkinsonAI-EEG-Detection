{
  "cells": [
    {
      "cell_type": "code",
      "execution_count": 1,
      "metadata": {
        "id": "Hbk9oZvYLjxg"
      },
      "outputs": [],
      "source": [
        "import pandas as pd\n",
        "from pylab import rcParams"
      ]
    },
    {
      "cell_type": "code",
      "execution_count": 2,
      "metadata": {
        "colab": {
          "base_uri": "https://localhost:8080/",
          "height": 422
        },
        "id": "2kIPa6d2MOST",
        "outputId": "4aea1576-e84e-4bde-e903-4dd4eb2cf930"
      },
      "outputs": [
        {
          "data": {
            "text/html": [
              "<div>\n",
              "<style scoped>\n",
              "    .dataframe tbody tr th:only-of-type {\n",
              "        vertical-align: middle;\n",
              "    }\n",
              "\n",
              "    .dataframe tbody tr th {\n",
              "        vertical-align: top;\n",
              "    }\n",
              "\n",
              "    .dataframe thead th {\n",
              "        text-align: right;\n",
              "    }\n",
              "</style>\n",
              "<table border=\"1\" class=\"dataframe\">\n",
              "  <thead>\n",
              "    <tr style=\"text-align: right;\">\n",
              "      <th></th>\n",
              "      <th>pat_id</th>\n",
              "      <th>psd_1</th>\n",
              "      <th>psd_2</th>\n",
              "      <th>psd_3</th>\n",
              "      <th>psd_4</th>\n",
              "      <th>psd_5</th>\n",
              "      <th>psd_6</th>\n",
              "      <th>psd_7</th>\n",
              "      <th>psd_8</th>\n",
              "      <th>psd_9</th>\n",
              "      <th>...</th>\n",
              "      <th>sampent_32</th>\n",
              "      <th>sampent_33</th>\n",
              "      <th>sampent_34</th>\n",
              "      <th>sampent_35</th>\n",
              "      <th>sampent_36</th>\n",
              "      <th>sampent_37</th>\n",
              "      <th>sampent_38</th>\n",
              "      <th>sampent_39</th>\n",
              "      <th>sampent_40</th>\n",
              "      <th>class</th>\n",
              "    </tr>\n",
              "  </thead>\n",
              "  <tbody>\n",
              "    <tr>\n",
              "      <th>0</th>\n",
              "      <td>4</td>\n",
              "      <td>645.421802</td>\n",
              "      <td>1244.137107</td>\n",
              "      <td>1342.573257</td>\n",
              "      <td>1377.626642</td>\n",
              "      <td>1191.858023</td>\n",
              "      <td>916.585764</td>\n",
              "      <td>631.944529</td>\n",
              "      <td>348.472667</td>\n",
              "      <td>205.715373</td>\n",
              "      <td>...</td>\n",
              "      <td>0.831088</td>\n",
              "      <td>1.255300</td>\n",
              "      <td>1.158907</td>\n",
              "      <td>1.277339</td>\n",
              "      <td>1.240665</td>\n",
              "      <td>0.836394</td>\n",
              "      <td>1.298104</td>\n",
              "      <td>0.777171</td>\n",
              "      <td>1.227535</td>\n",
              "      <td>0</td>\n",
              "    </tr>\n",
              "    <tr>\n",
              "      <th>1</th>\n",
              "      <td>4</td>\n",
              "      <td>647.570547</td>\n",
              "      <td>1207.246409</td>\n",
              "      <td>1261.396234</td>\n",
              "      <td>1253.218814</td>\n",
              "      <td>1030.154628</td>\n",
              "      <td>805.928995</td>\n",
              "      <td>595.934811</td>\n",
              "      <td>343.724728</td>\n",
              "      <td>210.889603</td>\n",
              "      <td>...</td>\n",
              "      <td>1.180914</td>\n",
              "      <td>1.246011</td>\n",
              "      <td>1.215797</td>\n",
              "      <td>1.240653</td>\n",
              "      <td>0.955632</td>\n",
              "      <td>1.077463</td>\n",
              "      <td>1.178307</td>\n",
              "      <td>1.086454</td>\n",
              "      <td>1.133585</td>\n",
              "      <td>0</td>\n",
              "    </tr>\n",
              "    <tr>\n",
              "      <th>2</th>\n",
              "      <td>4</td>\n",
              "      <td>724.363206</td>\n",
              "      <td>1330.406693</td>\n",
              "      <td>1312.083779</td>\n",
              "      <td>1283.059901</td>\n",
              "      <td>1094.287751</td>\n",
              "      <td>907.385618</td>\n",
              "      <td>695.820322</td>\n",
              "      <td>419.915616</td>\n",
              "      <td>255.160034</td>\n",
              "      <td>...</td>\n",
              "      <td>1.115960</td>\n",
              "      <td>1.343804</td>\n",
              "      <td>1.228263</td>\n",
              "      <td>1.408782</td>\n",
              "      <td>1.059234</td>\n",
              "      <td>1.163180</td>\n",
              "      <td>1.190991</td>\n",
              "      <td>1.322667</td>\n",
              "      <td>1.269843</td>\n",
              "      <td>0</td>\n",
              "    </tr>\n",
              "    <tr>\n",
              "      <th>3</th>\n",
              "      <td>4</td>\n",
              "      <td>785.063504</td>\n",
              "      <td>1528.031200</td>\n",
              "      <td>1679.275159</td>\n",
              "      <td>1709.930897</td>\n",
              "      <td>1433.600885</td>\n",
              "      <td>1098.581952</td>\n",
              "      <td>774.572496</td>\n",
              "      <td>437.289908</td>\n",
              "      <td>257.290732</td>\n",
              "      <td>...</td>\n",
              "      <td>1.177169</td>\n",
              "      <td>1.232936</td>\n",
              "      <td>1.132899</td>\n",
              "      <td>1.283933</td>\n",
              "      <td>1.189928</td>\n",
              "      <td>1.016720</td>\n",
              "      <td>0.999399</td>\n",
              "      <td>1.228235</td>\n",
              "      <td>1.407448</td>\n",
              "      <td>0</td>\n",
              "    </tr>\n",
              "    <tr>\n",
              "      <th>4</th>\n",
              "      <td>4</td>\n",
              "      <td>682.674948</td>\n",
              "      <td>1338.604460</td>\n",
              "      <td>1517.318550</td>\n",
              "      <td>1614.032264</td>\n",
              "      <td>1374.831555</td>\n",
              "      <td>1052.713192</td>\n",
              "      <td>720.388417</td>\n",
              "      <td>408.701591</td>\n",
              "      <td>251.571574</td>\n",
              "      <td>...</td>\n",
              "      <td>1.301709</td>\n",
              "      <td>1.335298</td>\n",
              "      <td>1.228710</td>\n",
              "      <td>1.247957</td>\n",
              "      <td>1.282280</td>\n",
              "      <td>1.218595</td>\n",
              "      <td>1.225250</td>\n",
              "      <td>1.291365</td>\n",
              "      <td>1.293883</td>\n",
              "      <td>0</td>\n",
              "    </tr>\n",
              "    <tr>\n",
              "      <th>...</th>\n",
              "      <td>...</td>\n",
              "      <td>...</td>\n",
              "      <td>...</td>\n",
              "      <td>...</td>\n",
              "      <td>...</td>\n",
              "      <td>...</td>\n",
              "      <td>...</td>\n",
              "      <td>...</td>\n",
              "      <td>...</td>\n",
              "      <td>...</td>\n",
              "      <td>...</td>\n",
              "      <td>...</td>\n",
              "      <td>...</td>\n",
              "      <td>...</td>\n",
              "      <td>...</td>\n",
              "      <td>...</td>\n",
              "      <td>...</td>\n",
              "      <td>...</td>\n",
              "      <td>...</td>\n",
              "      <td>...</td>\n",
              "      <td>...</td>\n",
              "    </tr>\n",
              "    <tr>\n",
              "      <th>925</th>\n",
              "      <td>28</td>\n",
              "      <td>29740.629379</td>\n",
              "      <td>56201.896357</td>\n",
              "      <td>58789.459897</td>\n",
              "      <td>58028.890750</td>\n",
              "      <td>50645.237424</td>\n",
              "      <td>44097.258746</td>\n",
              "      <td>40037.136809</td>\n",
              "      <td>36816.435836</td>\n",
              "      <td>31926.126593</td>\n",
              "      <td>...</td>\n",
              "      <td>1.555706</td>\n",
              "      <td>1.663974</td>\n",
              "      <td>1.298966</td>\n",
              "      <td>1.162820</td>\n",
              "      <td>1.581927</td>\n",
              "      <td>1.450756</td>\n",
              "      <td>1.607178</td>\n",
              "      <td>1.641080</td>\n",
              "      <td>1.345645</td>\n",
              "      <td>1</td>\n",
              "    </tr>\n",
              "    <tr>\n",
              "      <th>926</th>\n",
              "      <td>28</td>\n",
              "      <td>40827.686054</td>\n",
              "      <td>76808.102703</td>\n",
              "      <td>82034.025274</td>\n",
              "      <td>80124.963121</td>\n",
              "      <td>69929.526081</td>\n",
              "      <td>61915.845015</td>\n",
              "      <td>53208.289164</td>\n",
              "      <td>44131.671631</td>\n",
              "      <td>34008.362223</td>\n",
              "      <td>...</td>\n",
              "      <td>1.450620</td>\n",
              "      <td>1.583878</td>\n",
              "      <td>1.084191</td>\n",
              "      <td>0.745166</td>\n",
              "      <td>1.543272</td>\n",
              "      <td>1.323299</td>\n",
              "      <td>1.604390</td>\n",
              "      <td>1.501338</td>\n",
              "      <td>0.924893</td>\n",
              "      <td>1</td>\n",
              "    </tr>\n",
              "    <tr>\n",
              "      <th>927</th>\n",
              "      <td>28</td>\n",
              "      <td>42196.772223</td>\n",
              "      <td>78604.719259</td>\n",
              "      <td>79353.665675</td>\n",
              "      <td>71321.481339</td>\n",
              "      <td>57166.174542</td>\n",
              "      <td>48206.932984</td>\n",
              "      <td>40824.007652</td>\n",
              "      <td>38185.795548</td>\n",
              "      <td>34209.113003</td>\n",
              "      <td>...</td>\n",
              "      <td>1.246348</td>\n",
              "      <td>1.314960</td>\n",
              "      <td>0.429900</td>\n",
              "      <td>0.183363</td>\n",
              "      <td>1.393888</td>\n",
              "      <td>1.476062</td>\n",
              "      <td>1.512985</td>\n",
              "      <td>1.247674</td>\n",
              "      <td>0.567492</td>\n",
              "      <td>1</td>\n",
              "    </tr>\n",
              "    <tr>\n",
              "      <th>928</th>\n",
              "      <td>28</td>\n",
              "      <td>51205.111501</td>\n",
              "      <td>91749.951480</td>\n",
              "      <td>91156.325678</td>\n",
              "      <td>81017.080285</td>\n",
              "      <td>67119.643844</td>\n",
              "      <td>59567.532868</td>\n",
              "      <td>48705.533831</td>\n",
              "      <td>37721.211645</td>\n",
              "      <td>29512.313342</td>\n",
              "      <td>...</td>\n",
              "      <td>1.358135</td>\n",
              "      <td>1.363696</td>\n",
              "      <td>0.616864</td>\n",
              "      <td>0.281217</td>\n",
              "      <td>1.265886</td>\n",
              "      <td>1.367786</td>\n",
              "      <td>1.510821</td>\n",
              "      <td>1.333219</td>\n",
              "      <td>0.551830</td>\n",
              "      <td>1</td>\n",
              "    </tr>\n",
              "    <tr>\n",
              "      <th>929</th>\n",
              "      <td>28</td>\n",
              "      <td>27672.339877</td>\n",
              "      <td>53465.663944</td>\n",
              "      <td>58055.472774</td>\n",
              "      <td>58128.201292</td>\n",
              "      <td>53833.304682</td>\n",
              "      <td>48000.322680</td>\n",
              "      <td>43472.159333</td>\n",
              "      <td>37148.308354</td>\n",
              "      <td>28643.962649</td>\n",
              "      <td>...</td>\n",
              "      <td>1.481256</td>\n",
              "      <td>1.481699</td>\n",
              "      <td>1.395849</td>\n",
              "      <td>1.164615</td>\n",
              "      <td>1.524997</td>\n",
              "      <td>1.471437</td>\n",
              "      <td>1.466478</td>\n",
              "      <td>1.490072</td>\n",
              "      <td>1.566892</td>\n",
              "      <td>1</td>\n",
              "    </tr>\n",
              "  </tbody>\n",
              "</table>\n",
              "<p>930 rows × 256 columns</p>\n",
              "</div>"
            ],
            "text/plain": [
              "     pat_id         psd_1         psd_2         psd_3         psd_4  \\\n",
              "0         4    645.421802   1244.137107   1342.573257   1377.626642   \n",
              "1         4    647.570547   1207.246409   1261.396234   1253.218814   \n",
              "2         4    724.363206   1330.406693   1312.083779   1283.059901   \n",
              "3         4    785.063504   1528.031200   1679.275159   1709.930897   \n",
              "4         4    682.674948   1338.604460   1517.318550   1614.032264   \n",
              "..      ...           ...           ...           ...           ...   \n",
              "925      28  29740.629379  56201.896357  58789.459897  58028.890750   \n",
              "926      28  40827.686054  76808.102703  82034.025274  80124.963121   \n",
              "927      28  42196.772223  78604.719259  79353.665675  71321.481339   \n",
              "928      28  51205.111501  91749.951480  91156.325678  81017.080285   \n",
              "929      28  27672.339877  53465.663944  58055.472774  58128.201292   \n",
              "\n",
              "            psd_5         psd_6         psd_7         psd_8         psd_9  \\\n",
              "0     1191.858023    916.585764    631.944529    348.472667    205.715373   \n",
              "1     1030.154628    805.928995    595.934811    343.724728    210.889603   \n",
              "2     1094.287751    907.385618    695.820322    419.915616    255.160034   \n",
              "3     1433.600885   1098.581952    774.572496    437.289908    257.290732   \n",
              "4     1374.831555   1052.713192    720.388417    408.701591    251.571574   \n",
              "..            ...           ...           ...           ...           ...   \n",
              "925  50645.237424  44097.258746  40037.136809  36816.435836  31926.126593   \n",
              "926  69929.526081  61915.845015  53208.289164  44131.671631  34008.362223   \n",
              "927  57166.174542  48206.932984  40824.007652  38185.795548  34209.113003   \n",
              "928  67119.643844  59567.532868  48705.533831  37721.211645  29512.313342   \n",
              "929  53833.304682  48000.322680  43472.159333  37148.308354  28643.962649   \n",
              "\n",
              "     ...  sampent_32  sampent_33  sampent_34  sampent_35  sampent_36  \\\n",
              "0    ...    0.831088    1.255300    1.158907    1.277339    1.240665   \n",
              "1    ...    1.180914    1.246011    1.215797    1.240653    0.955632   \n",
              "2    ...    1.115960    1.343804    1.228263    1.408782    1.059234   \n",
              "3    ...    1.177169    1.232936    1.132899    1.283933    1.189928   \n",
              "4    ...    1.301709    1.335298    1.228710    1.247957    1.282280   \n",
              "..   ...         ...         ...         ...         ...         ...   \n",
              "925  ...    1.555706    1.663974    1.298966    1.162820    1.581927   \n",
              "926  ...    1.450620    1.583878    1.084191    0.745166    1.543272   \n",
              "927  ...    1.246348    1.314960    0.429900    0.183363    1.393888   \n",
              "928  ...    1.358135    1.363696    0.616864    0.281217    1.265886   \n",
              "929  ...    1.481256    1.481699    1.395849    1.164615    1.524997   \n",
              "\n",
              "     sampent_37  sampent_38  sampent_39  sampent_40  class  \n",
              "0      0.836394    1.298104    0.777171    1.227535      0  \n",
              "1      1.077463    1.178307    1.086454    1.133585      0  \n",
              "2      1.163180    1.190991    1.322667    1.269843      0  \n",
              "3      1.016720    0.999399    1.228235    1.407448      0  \n",
              "4      1.218595    1.225250    1.291365    1.293883      0  \n",
              "..          ...         ...         ...         ...    ...  \n",
              "925    1.450756    1.607178    1.641080    1.345645      1  \n",
              "926    1.323299    1.604390    1.501338    0.924893      1  \n",
              "927    1.476062    1.512985    1.247674    0.567492      1  \n",
              "928    1.367786    1.510821    1.333219    0.551830      1  \n",
              "929    1.471437    1.466478    1.490072    1.566892      1  \n",
              "\n",
              "[930 rows x 256 columns]"
            ]
          },
          "execution_count": 2,
          "metadata": {},
          "output_type": "execute_result"
        }
      ],
      "source": [
        "dataframe = pd.read_csv(\"EEG_computations1.csv\")\n",
        "dataframe"
      ]
    },
    {
      "cell_type": "code",
      "execution_count": 3,
      "metadata": {
        "id": "Tzj0QNGfYRuC"
      },
      "outputs": [],
      "source": [
        "df1 = dataframe.copy()"
      ]
    },
    {
      "cell_type": "code",
      "execution_count": 4,
      "metadata": {
        "id": "npkCYb8SZmrB"
      },
      "outputs": [],
      "source": [
        "psd_col = df1.loc[: , \"psd_1\":\"psd_14\"]\n",
        "hc_col = df1.loc[: , \"hjorthc_1\":\"hjorthc_40\"]\n",
        "hm_col = df1.loc[: , \"hjorthm_1\":\"hjorthm_40\"]\n",
        "hurst_col = df1.loc[: , \"hurst_1\":\"hurst_40\"]\n",
        "fisher_col = df1.loc[: , \"fisher_1\":\"fisher_40\"]\n",
        "hfd = df1.loc[: , \"hfd_1\":\"hfd_40\"]\n",
        "sampent_col = df1.loc[: , \"sampent_1\":\"sampent_40\"]\n",
        "df1['psd_mean'] = psd_col.mean(axis=1)\n",
        "df1['hc_col'] = hc_col.mean(axis=1)\n",
        "df1['hm_col'] = hm_col.mean(axis=1)\n",
        "df1['hurst_col'] = hurst_col.mean(axis=1)\n",
        "df1['fisher_col'] = fisher_col.mean(axis=1)\n",
        "df1['hfd'] = hfd.mean(axis=1)\n",
        "df1['sampent_col'] = sampent_col.mean(axis=1)"
      ]
    },
    {
      "cell_type": "code",
      "execution_count": 5,
      "metadata": {
        "colab": {
          "base_uri": "https://localhost:8080/",
          "height": 529
        },
        "id": "MiejWE1ybCs4",
        "outputId": "ab52967f-95ce-4424-8239-c6e939623114"
      },
      "outputs": [
        {
          "data": {
            "text/plain": [
              "<Axes: xlabel='Patient IDs', ylabel='Hurst Exponent Values'>"
            ]
          },
          "execution_count": 5,
          "metadata": {},
          "output_type": "execute_result"
        },
        {
          "data": {
            "image/png": "[encoded data removed]",
            "text/plain": [
              "<Figure size 640x480 with 1 Axes>"
            ]
          },
          "metadata": {},
          "output_type": "display_data"
        }
      ],
      "source": [
        "import seaborn as sns\n",
        "import matplotlib.pyplot as plt\n",
        "fig, ax = plt.subplots()\n",
        "ax.set_xlabel(\"Patient IDs\")\n",
        "ax.set_ylabel(\"Hurst Exponent Values\")\n",
        "plt.style.use(\"fast\")\n",
        "rcParams['figure.figsize'] = 12, 8\n",
        "sns.boxplot(y = df1['hurst_col'].values, x = df1['pat_id'].values, data = df1, hue = df1['class'].values, ax = ax)"
      ]
    },
    {
      "cell_type": "code",
      "execution_count": 6,
      "metadata": {
        "id": "nxe-ycI8MWT_"
      },
      "outputs": [],
      "source": [
        "X = dataframe.iloc[:,1:-1]\n",
        "Y = dataframe.iloc[:, -1]"
      ]
    },
    {
      "cell_type": "code",
      "execution_count": 7,
      "metadata": {
        "id": "WaTW7GilVRhe"
      },
      "outputs": [],
      "source": [
        "from sklearn.preprocessing import MinMaxScaler\n",
        "scaler = MinMaxScaler()\n",
        "scaled = scaler.fit_transform(X)"
      ]
    },
    {
      "cell_type": "code",
      "execution_count": 26,
      "metadata": {},
      "outputs": [],
      "source": [
        "import pickle\n",
        "\n",
        "with open('models/scaler.pkl','wb') as f:\n",
        "    pickle.dump(scaler, f)"
      ]
    },
    {
      "cell_type": "code",
      "execution_count": 8,
      "metadata": {
        "colab": {
          "base_uri": "https://localhost:8080/"
        },
        "id": "8TOjpJ2VVd5d",
        "outputId": "551f076f-0b8d-4ced-f115-00cbcafd1cad"
      },
      "outputs": [
        {
          "data": {
            "text/plain": [
              "array([[4.72107584e-04, 6.59707839e-04, 1.06276116e-03, ...,\n",
              "        7.68329043e-01, 3.99077062e-01, 6.38594932e-01],\n",
              "       [5.00958744e-04, 3.51898002e-04, 2.01841491e-04, ...,\n",
              "        6.82007669e-01, 5.88020631e-01, 5.76314090e-01],\n",
              "       [1.53205247e-03, 1.37952689e-03, 7.39406218e-04, ...,\n",
              "        6.91147223e-01, 7.32325192e-01, 6.66641437e-01],\n",
              "       ...,\n",
              "       [5.58381385e-01, 6.46143515e-01, 8.28406276e-01, ...,\n",
              "        9.23164193e-01, 6.86511521e-01, 2.01043961e-01],\n",
              "       [6.79336204e-01, 7.55825143e-01, 9.53578914e-01, ...,\n",
              "        9.21605133e-01, 7.38771230e-01, 1.90661215e-01],\n",
              "       [3.63362079e-01, 4.36387427e-01, 6.02529145e-01, ...,\n",
              "        8.89652668e-01, 8.34594138e-01, 8.63559281e-01]])"
            ]
          },
          "execution_count": 8,
          "metadata": {},
          "output_type": "execute_result"
        }
      ],
      "source": [
        "scaled"
      ]
    },
    {
      "cell_type": "code",
      "execution_count": 9,
      "metadata": {
        "colab": {
          "base_uri": "https://localhost:8080/"
        },
        "id": "vkTUEI-mNETV",
        "outputId": "c1e7b947-854a-423a-a822-c2a77f97b424"
      },
      "outputs": [
        {
          "data": {
            "text/plain": [
              "0      0\n",
              "1      0\n",
              "2      0\n",
              "3      0\n",
              "4      0\n",
              "      ..\n",
              "925    1\n",
              "926    1\n",
              "927    1\n",
              "928    1\n",
              "929    1\n",
              "Name: class, Length: 930, dtype: int64"
            ]
          },
          "execution_count": 9,
          "metadata": {},
          "output_type": "execute_result"
        }
      ],
      "source": [
        "Y"
      ]
    },
    {
      "cell_type": "code",
      "execution_count": 10,
      "metadata": {
        "colab": {
          "base_uri": "https://localhost:8080/",
          "height": 333
        },
        "id": "1lLTWN49NJ8d",
        "outputId": "bd5a7f31-7e8e-4ce7-c2f8-9956f76b2253"
      },
      "outputs": [
        {
          "data": {
            "text/html": [
              "<div>\n",
              "<style scoped>\n",
              "    .dataframe tbody tr th:only-of-type {\n",
              "        vertical-align: middle;\n",
              "    }\n",
              "\n",
              "    .dataframe tbody tr th {\n",
              "        vertical-align: top;\n",
              "    }\n",
              "\n",
              "    .dataframe thead th {\n",
              "        text-align: right;\n",
              "    }\n",
              "</style>\n",
              "<table border=\"1\" class=\"dataframe\">\n",
              "  <thead>\n",
              "    <tr style=\"text-align: right;\">\n",
              "      <th></th>\n",
              "      <th>pat_id</th>\n",
              "      <th>psd_1</th>\n",
              "      <th>psd_2</th>\n",
              "      <th>psd_3</th>\n",
              "      <th>psd_4</th>\n",
              "      <th>psd_5</th>\n",
              "      <th>psd_6</th>\n",
              "      <th>psd_7</th>\n",
              "      <th>psd_8</th>\n",
              "      <th>psd_9</th>\n",
              "      <th>...</th>\n",
              "      <th>sampent_32</th>\n",
              "      <th>sampent_33</th>\n",
              "      <th>sampent_34</th>\n",
              "      <th>sampent_35</th>\n",
              "      <th>sampent_36</th>\n",
              "      <th>sampent_37</th>\n",
              "      <th>sampent_38</th>\n",
              "      <th>sampent_39</th>\n",
              "      <th>sampent_40</th>\n",
              "      <th>class</th>\n",
              "    </tr>\n",
              "  </thead>\n",
              "  <tbody>\n",
              "    <tr>\n",
              "      <th>count</th>\n",
              "      <td>930.000000</td>\n",
              "      <td>930.000000</td>\n",
              "      <td>930.000000</td>\n",
              "      <td>930.000000</td>\n",
              "      <td>930.000000</td>\n",
              "      <td>930.000000</td>\n",
              "      <td>930.000000</td>\n",
              "      <td>930.000000</td>\n",
              "      <td>930.000000</td>\n",
              "      <td>930.000000</td>\n",
              "      <td>...</td>\n",
              "      <td>930.000000</td>\n",
              "      <td>930.000000</td>\n",
              "      <td>930.000000</td>\n",
              "      <td>930.000000</td>\n",
              "      <td>930.000000</td>\n",
              "      <td>930.000000</td>\n",
              "      <td>930.000000</td>\n",
              "      <td>930.000000</td>\n",
              "      <td>930.000000</td>\n",
              "      <td>930.000000</td>\n",
              "    </tr>\n",
              "    <tr>\n",
              "      <th>mean</th>\n",
              "      <td>16.741935</td>\n",
              "      <td>8291.100894</td>\n",
              "      <td>15045.977012</td>\n",
              "      <td>14903.022555</td>\n",
              "      <td>13274.207132</td>\n",
              "      <td>10363.294203</td>\n",
              "      <td>8623.179898</td>\n",
              "      <td>7145.370186</td>\n",
              "      <td>5546.784354</td>\n",
              "      <td>4268.359542</td>\n",
              "      <td>...</td>\n",
              "      <td>1.081401</td>\n",
              "      <td>1.077624</td>\n",
              "      <td>1.035868</td>\n",
              "      <td>1.074182</td>\n",
              "      <td>1.096957</td>\n",
              "      <td>1.091252</td>\n",
              "      <td>1.078720</td>\n",
              "      <td>1.089867</td>\n",
              "      <td>1.081050</td>\n",
              "      <td>0.483871</td>\n",
              "    </tr>\n",
              "    <tr>\n",
              "      <th>std</th>\n",
              "      <td>9.653751</td>\n",
              "      <td>9623.604885</td>\n",
              "      <td>16931.659797</td>\n",
              "      <td>16325.487682</td>\n",
              "      <td>14464.263487</td>\n",
              "      <td>12038.051916</td>\n",
              "      <td>10737.554342</td>\n",
              "      <td>9331.345065</td>\n",
              "      <td>7794.206229</td>\n",
              "      <td>6327.455239</td>\n",
              "      <td>...</td>\n",
              "      <td>0.285835</td>\n",
              "      <td>0.288845</td>\n",
              "      <td>0.274888</td>\n",
              "      <td>0.275960</td>\n",
              "      <td>0.290453</td>\n",
              "      <td>0.282569</td>\n",
              "      <td>0.257759</td>\n",
              "      <td>0.282576</td>\n",
              "      <td>0.276887</td>\n",
              "      <td>0.500009</td>\n",
              "    </tr>\n",
              "    <tr>\n",
              "      <th>min</th>\n",
              "      <td>1.000000</td>\n",
              "      <td>610.260695</td>\n",
              "      <td>1165.071789</td>\n",
              "      <td>1242.364387</td>\n",
              "      <td>1170.523117</td>\n",
              "      <td>615.182501</td>\n",
              "      <td>440.103280</td>\n",
              "      <td>351.234807</td>\n",
              "      <td>297.415531</td>\n",
              "      <td>205.715373</td>\n",
              "      <td>...</td>\n",
              "      <td>0.193259</td>\n",
              "      <td>0.119287</td>\n",
              "      <td>0.193158</td>\n",
              "      <td>0.082825</td>\n",
              "      <td>0.146006</td>\n",
              "      <td>0.152785</td>\n",
              "      <td>0.231814</td>\n",
              "      <td>0.123919</td>\n",
              "      <td>0.264219</td>\n",
              "      <td>0.000000</td>\n",
              "    </tr>\n",
              "    <tr>\n",
              "      <th>25%</th>\n",
              "      <td>8.000000</td>\n",
              "      <td>2875.523627</td>\n",
              "      <td>5278.285350</td>\n",
              "      <td>5204.853814</td>\n",
              "      <td>4390.163267</td>\n",
              "      <td>3047.192106</td>\n",
              "      <td>2296.325411</td>\n",
              "      <td>1789.404781</td>\n",
              "      <td>1176.933062</td>\n",
              "      <td>863.421414</td>\n",
              "      <td>...</td>\n",
              "      <td>0.889004</td>\n",
              "      <td>0.889179</td>\n",
              "      <td>0.862642</td>\n",
              "      <td>0.905054</td>\n",
              "      <td>0.913109</td>\n",
              "      <td>0.900236</td>\n",
              "      <td>0.915591</td>\n",
              "      <td>0.892346</td>\n",
              "      <td>0.894849</td>\n",
              "      <td>0.000000</td>\n",
              "    </tr>\n",
              "    <tr>\n",
              "      <th>50%</th>\n",
              "      <td>17.000000</td>\n",
              "      <td>4636.550371</td>\n",
              "      <td>8389.164068</td>\n",
              "      <td>8093.961643</td>\n",
              "      <td>6945.878103</td>\n",
              "      <td>5053.493301</td>\n",
              "      <td>4034.958035</td>\n",
              "      <td>3240.424475</td>\n",
              "      <td>2472.559750</td>\n",
              "      <td>1860.353670</td>\n",
              "      <td>...</td>\n",
              "      <td>1.112056</td>\n",
              "      <td>1.103804</td>\n",
              "      <td>1.047740</td>\n",
              "      <td>1.087776</td>\n",
              "      <td>1.110479</td>\n",
              "      <td>1.111336</td>\n",
              "      <td>1.094964</td>\n",
              "      <td>1.099678</td>\n",
              "      <td>1.101938</td>\n",
              "      <td>0.000000</td>\n",
              "    </tr>\n",
              "    <tr>\n",
              "      <th>75%</th>\n",
              "      <td>25.000000</td>\n",
              "      <td>9276.221867</td>\n",
              "      <td>17634.649201</td>\n",
              "      <td>18702.682763</td>\n",
              "      <td>17942.566351</td>\n",
              "      <td>13988.994370</td>\n",
              "      <td>11388.513568</td>\n",
              "      <td>9087.957756</td>\n",
              "      <td>6975.129530</td>\n",
              "      <td>5093.430777</td>\n",
              "      <td>...</td>\n",
              "      <td>1.276000</td>\n",
              "      <td>1.280762</td>\n",
              "      <td>1.231702</td>\n",
              "      <td>1.268287</td>\n",
              "      <td>1.305049</td>\n",
              "      <td>1.303397</td>\n",
              "      <td>1.271266</td>\n",
              "      <td>1.311466</td>\n",
              "      <td>1.290680</td>\n",
              "      <td>1.000000</td>\n",
              "    </tr>\n",
              "    <tr>\n",
              "      <th>max</th>\n",
              "      <td>33.000000</td>\n",
              "      <td>75087.155180</td>\n",
              "      <td>121014.061400</td>\n",
              "      <td>95533.418840</td>\n",
              "      <td>84521.975220</td>\n",
              "      <td>78548.277677</td>\n",
              "      <td>70656.973125</td>\n",
              "      <td>60098.210405</td>\n",
              "      <td>48264.852450</td>\n",
              "      <td>47664.585960</td>\n",
              "      <td>...</td>\n",
              "      <td>1.764379</td>\n",
              "      <td>1.756749</td>\n",
              "      <td>1.685477</td>\n",
              "      <td>1.736654</td>\n",
              "      <td>1.763503</td>\n",
              "      <td>1.761067</td>\n",
              "      <td>1.619618</td>\n",
              "      <td>1.760826</td>\n",
              "      <td>1.772712</td>\n",
              "      <td>1.000000</td>\n",
              "    </tr>\n",
              "  </tbody>\n",
              "</table>\n",
              "<p>8 rows × 256 columns</p>\n",
              "</div>"
            ],
            "text/plain": [
              "           pat_id         psd_1          psd_2         psd_3         psd_4  \\\n",
              "count  930.000000    930.000000     930.000000    930.000000    930.000000   \n",
              "mean    16.741935   8291.100894   15045.977012  14903.022555  13274.207132   \n",
              "std      9.653751   9623.604885   16931.659797  16325.487682  14464.263487   \n",
              "min      1.000000    610.260695    1165.071789   1242.364387   1170.523117   \n",
              "25%      8.000000   2875.523627    5278.285350   5204.853814   4390.163267   \n",
              "50%     17.000000   4636.550371    8389.164068   8093.961643   6945.878103   \n",
              "75%     25.000000   9276.221867   17634.649201  18702.682763  17942.566351   \n",
              "max     33.000000  75087.155180  121014.061400  95533.418840  84521.975220   \n",
              "\n",
              "              psd_5         psd_6         psd_7         psd_8         psd_9  \\\n",
              "count    930.000000    930.000000    930.000000    930.000000    930.000000   \n",
              "mean   10363.294203   8623.179898   7145.370186   5546.784354   4268.359542   \n",
              "std    12038.051916  10737.554342   9331.345065   7794.206229   6327.455239   \n",
              "min      615.182501    440.103280    351.234807    297.415531    205.715373   \n",
              "25%     3047.192106   2296.325411   1789.404781   1176.933062    863.421414   \n",
              "50%     5053.493301   4034.958035   3240.424475   2472.559750   1860.353670   \n",
              "75%    13988.994370  11388.513568   9087.957756   6975.129530   5093.430777   \n",
              "max    78548.277677  70656.973125  60098.210405  48264.852450  47664.585960   \n",
              "\n",
              "       ...  sampent_32  sampent_33  sampent_34  sampent_35  sampent_36  \\\n",
              "count  ...  930.000000  930.000000  930.000000  930.000000  930.000000   \n",
              "mean   ...    1.081401    1.077624    1.035868    1.074182    1.096957   \n",
              "std    ...    0.285835    0.288845    0.274888    0.275960    0.290453   \n",
              "min    ...    0.193259    0.119287    0.193158    0.082825    0.146006   \n",
              "25%    ...    0.889004    0.889179    0.862642    0.905054    0.913109   \n",
              "50%    ...    1.112056    1.103804    1.047740    1.087776    1.110479   \n",
              "75%    ...    1.276000    1.280762    1.231702    1.268287    1.305049   \n",
              "max    ...    1.764379    1.756749    1.685477    1.736654    1.763503   \n",
              "\n",
              "       sampent_37  sampent_38  sampent_39  sampent_40       class  \n",
              "count  930.000000  930.000000  930.000000  930.000000  930.000000  \n",
              "mean     1.091252    1.078720    1.089867    1.081050    0.483871  \n",
              "std      0.282569    0.257759    0.282576    0.276887    0.500009  \n",
              "min      0.152785    0.231814    0.123919    0.264219    0.000000  \n",
              "25%      0.900236    0.915591    0.892346    0.894849    0.000000  \n",
              "50%      1.111336    1.094964    1.099678    1.101938    0.000000  \n",
              "75%      1.303397    1.271266    1.311466    1.290680    1.000000  \n",
              "max      1.761067    1.619618    1.760826    1.772712    1.000000  \n",
              "\n",
              "[8 rows x 256 columns]"
            ]
          },
          "execution_count": 10,
          "metadata": {},
          "output_type": "execute_result"
        }
      ],
      "source": [
        "dataframe.describe()"
      ]
    },
    {
      "cell_type": "code",
      "execution_count": 11,
      "metadata": {
        "id": "g8vdvukVNi9D"
      },
      "outputs": [],
      "source": [
        "from sklearn.model_selection import train_test_split\n",
        "X_train, X_test, Y_train, Y_test = train_test_split(scaled, Y, test_size=0.1, stratify = Y, random_state=1)"
      ]
    },
    {
      "cell_type": "code",
      "execution_count": 12,
      "metadata": {
        "colab": {
          "base_uri": "https://localhost:8080/"
        },
        "id": "DK064BGhPb1u",
        "outputId": "329df850-957b-4952-d1f9-1caa87b90bd8"
      },
      "outputs": [
        {
          "data": {
            "text/plain": [
              "681    1\n",
              "904    1\n",
              "258    0\n",
              "184    0\n",
              "742    1\n",
              "      ..\n",
              "83     0\n",
              "19     0\n",
              "331    0\n",
              "491    1\n",
              "715    1\n",
              "Name: class, Length: 837, dtype: int64"
            ]
          },
          "execution_count": 12,
          "metadata": {},
          "output_type": "execute_result"
        }
      ],
      "source": [
        "Y_train"
      ]
    },
    {
      "cell_type": "code",
      "execution_count": 13,
      "metadata": {
        "colab": {
          "base_uri": "https://localhost:8080/"
        },
        "id": "rIqC4QcFPeLC",
        "outputId": "3e942674-5d80-40af-e5ba-de8876fc4de7"
      },
      "outputs": [
        {
          "data": {
            "text/plain": [
              "560    1\n",
              "707    1\n",
              "474    0\n",
              "510    1\n",
              "254    0\n",
              "      ..\n",
              "803    1\n",
              "690    1\n",
              "739    1\n",
              "926    1\n",
              "654    1\n",
              "Name: class, Length: 93, dtype: int64"
            ]
          },
          "execution_count": 13,
          "metadata": {},
          "output_type": "execute_result"
        }
      ],
      "source": [
        "Y_test"
      ]
    },
    {
      "cell_type": "code",
      "execution_count": 14,
      "metadata": {
        "id": "p-Yk7L0CPjYm"
      },
      "outputs": [
        {
          "name": "stderr",
          "output_type": "stream",
          "text": [
            "/Users/dipenshu/Desktop/Work/Qriocity/C321/env/lib/python3.10/site-packages/keras/src/layers/reshaping/flatten.py:37: UserWarning: Do not pass an `input_shape`/`input_dim` argument to a layer. When using Sequential models, prefer using an `Input(shape)` object as the first layer in the model instead.\n",
            "  super().__init__(**kwargs)\n"
          ]
        }
      ],
      "source": [
        "import keras\n",
        "import tensorflow as tf\n",
        "model = keras.Sequential([\n",
        "    keras.layers.Flatten(input_shape=(254,)),\n",
        "    keras.layers.Dense(200, activation=tf.nn.relu),\n",
        "\t  keras.layers.Dense(200, activation=tf.nn.relu),\n",
        "    keras.layers.Dense(1, activation=tf.nn.sigmoid),\n",
        "])"
      ]
    },
    {
      "cell_type": "code",
      "execution_count": 15,
      "metadata": {
        "colab": {
          "base_uri": "https://localhost:8080/"
        },
        "id": "jNPaFzhoPS90",
        "outputId": "55993211-9feb-43d6-b7d7-948bf32ea045"
      },
      "outputs": [
        {
          "data": {
            "text/html": [
              "<pre style=\"white-space:pre;overflow-x:auto;line-height:normal;font-family:Menlo,'DejaVu Sans Mono',consolas,'Courier New',monospace\"><span style=\"font-weight: bold\">Model: \"sequential\"</span>\n",
              "</pre>\n"
            ],
            "text/plain": [
              "\u001b[1mModel: \"sequential\"\u001b[0m\n"
            ]
          },
          "metadata": {},
          "output_type": "display_data"
        },
        {
          "data": {
            "text/html": [
              "<pre style=\"white-space:pre;overflow-x:auto;line-height:normal;font-family:Menlo,'DejaVu Sans Mono',consolas,'Courier New',monospace\">┏━━━━━━━━━━━━━━━━━━━━━━━━━━━━━━━━━┳━━━━━━━━━━━━━━━━━━━━━━━━┳━━━━━━━━━━━━━━━┓\n",
              "┃<span style=\"font-weight: bold\"> Layer (type)                    </span>┃<span style=\"font-weight: bold\"> Output Shape           </span>┃<span style=\"font-weight: bold\">       Param # </span>┃\n",
              "┡━━━━━━━━━━━━━━━━━━━━━━━━━━━━━━━━━╇━━━━━━━━━━━━━━━━━━━━━━━━╇━━━━━━━━━━━━━━━┩\n",
              "│ flatten (<span style=\"color: #0087ff; text-decoration-color: #0087ff\">Flatten</span>)               │ (<span style=\"color: #00d7ff; text-decoration-color: #00d7ff\">None</span>, <span style=\"color: #00af00; text-decoration-color: #00af00\">254</span>)            │             <span style=\"color: #00af00; text-decoration-color: #00af00\">0</span> │\n",
              "├─────────────────────────────────┼────────────────────────┼───────────────┤\n",
              "│ dense (<span style=\"color: #0087ff; text-decoration-color: #0087ff\">Dense</span>)                   │ (<span style=\"color: #00d7ff; text-decoration-color: #00d7ff\">None</span>, <span style=\"color: #00af00; text-decoration-color: #00af00\">200</span>)            │        <span style=\"color: #00af00; text-decoration-color: #00af00\">51,000</span> │\n",
              "├─────────────────────────────────┼────────────────────────┼───────────────┤\n",
              "│ dense_1 (<span style=\"color: #0087ff; text-decoration-color: #0087ff\">Dense</span>)                 │ (<span style=\"color: #00d7ff; text-decoration-color: #00d7ff\">None</span>, <span style=\"color: #00af00; text-decoration-color: #00af00\">200</span>)            │        <span style=\"color: #00af00; text-decoration-color: #00af00\">40,200</span> │\n",
              "├─────────────────────────────────┼────────────────────────┼───────────────┤\n",
              "│ dense_2 (<span style=\"color: #0087ff; text-decoration-color: #0087ff\">Dense</span>)                 │ (<span style=\"color: #00d7ff; text-decoration-color: #00d7ff\">None</span>, <span style=\"color: #00af00; text-decoration-color: #00af00\">1</span>)              │           <span style=\"color: #00af00; text-decoration-color: #00af00\">201</span> │\n",
              "└─────────────────────────────────┴────────────────────────┴───────────────┘\n",
              "</pre>\n"
            ],
            "text/plain": [
              "┏━━━━━━━━━━━━━━━━━━━━━━━━━━━━━━━━━┳━━━━━━━━━━━━━━━━━━━━━━━━┳━━━━━━━━━━━━━━━┓\n",
              "┃\u001b[1m \u001b[0m\u001b[1mLayer (type)                   \u001b[0m\u001b[1m \u001b[0m┃\u001b[1m \u001b[0m\u001b[1mOutput Shape          \u001b[0m\u001b[1m \u001b[0m┃\u001b[1m \u001b[0m\u001b[1m      Param #\u001b[0m\u001b[1m \u001b[0m┃\n",
              "┡━━━━━━━━━━━━━━━━━━━━━━━━━━━━━━━━━╇━━━━━━━━━━━━━━━━━━━━━━━━╇━━━━━━━━━━━━━━━┩\n",
              "│ flatten (\u001b[38;5;33mFlatten\u001b[0m)               │ (\u001b[38;5;45mNone\u001b[0m, \u001b[38;5;34m254\u001b[0m)            │             \u001b[38;5;34m0\u001b[0m │\n",
              "├─────────────────────────────────┼────────────────────────┼───────────────┤\n",
              "│ dense (\u001b[38;5;33mDense\u001b[0m)                   │ (\u001b[38;5;45mNone\u001b[0m, \u001b[38;5;34m200\u001b[0m)            │        \u001b[38;5;34m51,000\u001b[0m │\n",
              "├─────────────────────────────────┼────────────────────────┼───────────────┤\n",
              "│ dense_1 (\u001b[38;5;33mDense\u001b[0m)                 │ (\u001b[38;5;45mNone\u001b[0m, \u001b[38;5;34m200\u001b[0m)            │        \u001b[38;5;34m40,200\u001b[0m │\n",
              "├─────────────────────────────────┼────────────────────────┼───────────────┤\n",
              "│ dense_2 (\u001b[38;5;33mDense\u001b[0m)                 │ (\u001b[38;5;45mNone\u001b[0m, \u001b[38;5;34m1\u001b[0m)              │           \u001b[38;5;34m201\u001b[0m │\n",
              "└─────────────────────────────────┴────────────────────────┴───────────────┘\n"
            ]
          },
          "metadata": {},
          "output_type": "display_data"
        },
        {
          "data": {
            "text/html": [
              "<pre style=\"white-space:pre;overflow-x:auto;line-height:normal;font-family:Menlo,'DejaVu Sans Mono',consolas,'Courier New',monospace\"><span style=\"font-weight: bold\"> Total params: </span><span style=\"color: #00af00; text-decoration-color: #00af00\">91,401</span> (357.04 KB)\n",
              "</pre>\n"
            ],
            "text/plain": [
              "\u001b[1m Total params: \u001b[0m\u001b[38;5;34m91,401\u001b[0m (357.04 KB)\n"
            ]
          },
          "metadata": {},
          "output_type": "display_data"
        },
        {
          "data": {
            "text/html": [
              "<pre style=\"white-space:pre;overflow-x:auto;line-height:normal;font-family:Menlo,'DejaVu Sans Mono',consolas,'Courier New',monospace\"><span style=\"font-weight: bold\"> Trainable params: </span><span style=\"color: #00af00; text-decoration-color: #00af00\">91,401</span> (357.04 KB)\n",
              "</pre>\n"
            ],
            "text/plain": [
              "\u001b[1m Trainable params: \u001b[0m\u001b[38;5;34m91,401\u001b[0m (357.04 KB)\n"
            ]
          },
          "metadata": {},
          "output_type": "display_data"
        },
        {
          "data": {
            "text/html": [
              "<pre style=\"white-space:pre;overflow-x:auto;line-height:normal;font-family:Menlo,'DejaVu Sans Mono',consolas,'Courier New',monospace\"><span style=\"font-weight: bold\"> Non-trainable params: </span><span style=\"color: #00af00; text-decoration-color: #00af00\">0</span> (0.00 B)\n",
              "</pre>\n"
            ],
            "text/plain": [
              "\u001b[1m Non-trainable params: \u001b[0m\u001b[38;5;34m0\u001b[0m (0.00 B)\n"
            ]
          },
          "metadata": {},
          "output_type": "display_data"
        }
      ],
      "source": [
        "model.summary()"
      ]
    },
    {
      "cell_type": "code",
      "execution_count": 16,
      "metadata": {
        "id": "ZYLYgf45P7cY"
      },
      "outputs": [],
      "source": [
        "model.compile(optimizer='adam',loss=\"mse\",\n",
        "              metrics=['accuracy'])"
      ]
    },
    {
      "cell_type": "code",
      "execution_count": 17,
      "metadata": {
        "colab": {
          "base_uri": "https://localhost:8080/"
        },
        "id": "CAd0NusvQENu",
        "outputId": "59572998-764f-4da7-9674-8e13603049a6"
      },
      "outputs": [
        {
          "name": "stdout",
          "output_type": "stream",
          "text": [
            "Epoch 1/5\n",
            "\u001b[1m837/837\u001b[0m \u001b[32m━━━━━━━━━━━━━━━━━━━━\u001b[0m\u001b[37m\u001b[0m \u001b[1m1s\u001b[0m 547us/step - accuracy: 0.4956 - loss: 0.2781\n",
            "Epoch 2/5\n",
            "\u001b[1m837/837\u001b[0m \u001b[32m━━━━━━━━━━━━━━━━━━━━\u001b[0m\u001b[37m\u001b[0m \u001b[1m0s\u001b[0m 536us/step - accuracy: 0.5695 - loss: 0.2427\n",
            "Epoch 3/5\n",
            "\u001b[1m837/837\u001b[0m \u001b[32m━━━━━━━━━━━━━━━━━━━━\u001b[0m\u001b[37m\u001b[0m \u001b[1m0s\u001b[0m 565us/step - accuracy: 0.6453 - loss: 0.2198\n",
            "Epoch 4/5\n",
            "\u001b[1m837/837\u001b[0m \u001b[32m━━━━━━━━━━━━━━━━━━━━\u001b[0m\u001b[37m\u001b[0m \u001b[1m0s\u001b[0m 544us/step - accuracy: 0.7912 - loss: 0.1558\n",
            "Epoch 5/5\n",
            "\u001b[1m837/837\u001b[0m \u001b[32m━━━━━━━━━━━━━━━━━━━━\u001b[0m\u001b[37m\u001b[0m \u001b[1m1s\u001b[0m 589us/step - accuracy: 0.8543 - loss: 0.1111\n"
          ]
        },
        {
          "data": {
            "text/plain": [
              "<keras.src.callbacks.history.History at 0x16a2ce500>"
            ]
          },
          "execution_count": 17,
          "metadata": {},
          "output_type": "execute_result"
        }
      ],
      "source": [
        "model.fit(X_train, Y_train, epochs=5, batch_size=1, verbose=1)"
      ]
    },
    {
      "cell_type": "code",
      "execution_count": 18,
      "metadata": {
        "colab": {
          "base_uri": "https://localhost:8080/"
        },
        "id": "V-58oBTHQNt1",
        "outputId": "270af32c-918d-4116-d65a-7dbe1ea2486d"
      },
      "outputs": [
        {
          "name": "stdout",
          "output_type": "stream",
          "text": [
            "\u001b[1m3/3\u001b[0m \u001b[32m━━━━━━━━━━━━━━━━━━━━\u001b[0m\u001b[37m\u001b[0m \u001b[1m0s\u001b[0m 5ms/step - accuracy: 0.7860 - loss: 0.1230 \n"
          ]
        }
      ],
      "source": [
        "test_loss, test_acc = model.evaluate(X_test, Y_test)"
      ]
    },
    {
      "cell_type": "code",
      "execution_count": 19,
      "metadata": {
        "colab": {
          "base_uri": "https://localhost:8080/",
          "height": 475
        },
        "id": "wi9deUHQRE_v",
        "outputId": "d5c52239-4f22-4f66-8394-23bc8e1112e3"
      },
      "outputs": [
        {
          "name": "stdout",
          "output_type": "stream",
          "text": [
            "\u001b[1m3/3\u001b[0m \u001b[32m━━━━━━━━━━━━━━━━━━━━\u001b[0m\u001b[37m\u001b[0m \u001b[1m0s\u001b[0m 9ms/step \n"
          ]
        },
        {
          "data": {
            "text/plain": [
              "<Axes: xlabel='Predicted', ylabel='Actual'>"
            ]
          },
          "execution_count": 19,
          "metadata": {},
          "output_type": "execute_result"
        },
        {
          "data": {
            "image/png": "[encoded data removed]",
            "text/plain": [
              "<Figure size 1000x700 with 2 Axes>"
            ]
          },
          "metadata": {},
          "output_type": "display_data"
        }
      ],
      "source": [
        "import matplotlib.pyplot as plt\n",
        "pred = model.predict(X_test)\n",
        "import numpy as np\n",
        "y_pred_nn = (pred > 0.8).astype(np.float32)\n",
        "\n",
        "from sklearn.metrics import confusion_matrix, ConfusionMatrixDisplay\n",
        "\n",
        "cm = confusion_matrix(Y_test, y_pred_nn)\n",
        "df_cm = pd.DataFrame(cm, columns=[\"PD Negative\", \"PD Positive\"], index = np.unique([\"PD Negative\", \"PD Positive\"]))\n",
        "df_cm.index.name = 'Actual'\n",
        "df_cm.columns.name = 'Predicted'\n",
        "plt.figure(figsize = (10,7))\n",
        "sns.set(font_scale=1.4)#for label size\n",
        "sns.heatmap(df_cm, cmap=\"Blues\", annot=True,annot_kws={\"size\": 16}, fmt = \"g\")# font size"
      ]
    },
    {
      "cell_type": "code",
      "execution_count": 20,
      "metadata": {
        "colab": {
          "base_uri": "https://localhost:8080/"
        },
        "id": "LnwA09kNWHGk",
        "outputId": "7e228dca-65b2-41e0-e452-954abd5116ef"
      },
      "outputs": [
        {
          "data": {
            "text/plain": [
              "class\n",
              "0    48\n",
              "1    45\n",
              "Name: count, dtype: int64"
            ]
          },
          "execution_count": 20,
          "metadata": {},
          "output_type": "execute_result"
        }
      ],
      "source": [
        "Y_test.value_counts()"
      ]
    },
    {
      "cell_type": "code",
      "execution_count": 22,
      "metadata": {
        "colab": {
          "base_uri": "https://localhost:8080/"
        },
        "id": "9Ajt-5AFWNQf",
        "outputId": "9bd45f09-745e-4dae-969a-22070cc60e35"
      },
      "outputs": [
        {
          "data": {
            "text/plain": [
              "array([[44,  4],\n",
              "       [ 1, 44]])"
            ]
          },
          "execution_count": 22,
          "metadata": {},
          "output_type": "execute_result"
        }
      ],
      "source": [
        "import sklearn\n",
        "sklearn.metrics.confusion_matrix(Y_test, y_pred_nn)"
      ]
    },
    {
      "cell_type": "code",
      "execution_count": 23,
      "metadata": {
        "colab": {
          "base_uri": "https://localhost:8080/"
        },
        "id": "c_lJpQ2VZDWS",
        "outputId": "17cee9df-7384-40e7-e1d1-9c6db5e94c51"
      },
      "outputs": [
        {
          "data": {
            "text/plain": [
              "class\n",
              "0    48\n",
              "1    45\n",
              "Name: count, dtype: int64"
            ]
          },
          "execution_count": 23,
          "metadata": {},
          "output_type": "execute_result"
        }
      ],
      "source": [
        "Y_test.value_counts()"
      ]
    },
    {
      "cell_type": "code",
      "execution_count": 24,
      "metadata": {},
      "outputs": [
        {
          "name": "stderr",
          "output_type": "stream",
          "text": [
            "WARNING:absl:You are saving your model as an HDF5 file via `model.save()` or `keras.saving.save_model(model)`. This file format is considered legacy. We recommend using instead the native Keras format, e.g. `model.save('my_model.keras')` or `keras.saving.save_model(model, 'my_model.keras')`. \n"
          ]
        }
      ],
      "source": [
        "model.save('models/model.h5')"
      ]
    },
    {
      "cell_type": "code",
      "execution_count": null,
      "metadata": {},
      "outputs": [],
      "source": []
    }
  ],
  "metadata": {
    "colab": {
      "provenance": []
    },
    "kernelspec": {
      "display_name": "env",
      "language": "python",
      "name": "python3"
    },
    "language_info": {
      "codemirror_mode": {
        "name": "ipython",
        "version": 3
      },
      "file_extension": ".py",
      "mimetype": "text/x-python",
      "name": "python",
      "nbconvert_exporter": "python",
      "pygments_lexer": "ipython3",
      "version": "3.10.0"
    }
  },
  "nbformat": 4,
  "nbformat_minor": 0
}
